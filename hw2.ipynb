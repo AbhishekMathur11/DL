{
  "cells": [
    {
      "cell_type": "markdown",
      "metadata": {
        "id": "Gu-7DKL75Miy"
      },
      "source": [
        "# 10-714 Homework 2\n",
        "\n",
        "In this homework, you will be implementing a neural network library in the needle framework. Reminder: __you must save a copy in drive__."
      ]
    },
    {
      "cell_type": "code",
      "execution_count": 2,
      "metadata": {
        "colab": {
          "base_uri": "https://localhost:8080/"
        },
        "id": "zNZgxm205Mi0",
        "outputId": "171baa5b-c67d-4325-ac09-78755ee5818d"
      },
      "outputs": [
        {
          "output_type": "stream",
          "name": "stdout",
          "text": [
            "Mounted at /content/drive\n",
            "/content/drive/MyDrive\n",
            "/content/drive/MyDrive/10714\n",
            "fatal: destination path 'hw2' already exists and is not an empty directory.\n",
            "/content/drive/MyDrive/10714/hw2\n",
            "Collecting git+https://github.com/dlsys10714/mugrade.git\n",
            "  Cloning https://github.com/dlsys10714/mugrade.git to /tmp/pip-req-build-edraxiar\n",
            "  Running command git clone --filter=blob:none --quiet https://github.com/dlsys10714/mugrade.git /tmp/pip-req-build-edraxiar\n",
            "  Resolved https://github.com/dlsys10714/mugrade.git to commit ac73f725eb2ce0e2c6a38fa540035ee970b8b873\n",
            "  Preparing metadata (setup.py) ... \u001b[?25l\u001b[?25hdone\n",
            "Building wheels for collected packages: mugrade\n",
            "  Building wheel for mugrade (setup.py) ... \u001b[?25l\u001b[?25hdone\n",
            "  Created wheel for mugrade: filename=mugrade-1.3-py3-none-any.whl size=3708 sha256=4f01ca7abd5655d6ff18a0f3f86c5fc8695aa11cf7a2570a178f0b9daa25e764\n",
            "  Stored in directory: /tmp/pip-ephem-wheel-cache-362ctmb2/wheels/df/c7/14/2b747145fc762900af3ff05bd0c9192c506e70db3ef3890239\n",
            "Successfully built mugrade\n",
            "Installing collected packages: mugrade\n",
            "Successfully installed mugrade-1.3\n"
          ]
        }
      ],
      "source": [
        "# Code to set up the assignment\n",
        "from google.colab import drive\n",
        "drive.mount('/content/drive')\n",
        "%cd /content/drive/MyDrive/\n",
        "!mkdir -p 10714\n",
        "%cd /content/drive/MyDrive/10714\n",
        "!git clone https://github.com/dlsys10714/hw2.git\n",
        "%cd /content/drive/MyDrive/10714/hw2\n",
        "\n",
        "!pip3 install --upgrade --no-deps git+https://github.com/dlsys10714/mugrade.git"
      ]
    },
    {
      "cell_type": "markdown",
      "metadata": {
        "id": "jAdDj2BU5Mi1"
      },
      "source": [
        "### Setting some variables"
      ]
    },
    {
      "cell_type": "code",
      "execution_count": 3,
      "metadata": {
        "id": "icEJXDBY5Mi1"
      },
      "outputs": [],
      "source": [
        "MY_API_KEY = \"HJYwxpBVZIjQuQKBJ3PW\"\n",
        "HW2_NAME = \"hw2\""
      ]
    },
    {
      "cell_type": "markdown",
      "metadata": {
        "id": "_H0ok8w05Mi1"
      },
      "source": [
        "## Question 0\n",
        "\n",
        "This homework builds off of Homework 1.\n",
        "\n",
        "**First, in your Homework 2 directory, copy the files `python/needle/autograd.py`, `python/needle/ops/ops_mathematic.py` from your Homework 1.**\n",
        "\n",
        "***NOTE***: The default data type for the tensor is `float32`. If you want to change the data type, you can do so by setting the `dtype` parameter in the `Tensor` constructor. For example, `Tensor([1, 2, 3], dtype='float64')` will create a tensor with `float64` data type.\n",
        "In this homework, **make sure any tensor you create has `float32` data type to avoid any issues with the autograder**."
      ]
    },
    {
      "cell_type": "code",
      "execution_count": 4,
      "metadata": {
        "id": "u9GVgAX05Mi1"
      },
      "outputs": [],
      "source": [
        "import sys\n",
        "sys.path.append('./python')\n",
        "sys.path.append('./apps')"
      ]
    },
    {
      "cell_type": "markdown",
      "metadata": {
        "tags": [],
        "id": "6-tQB4Bl5Mi2"
      },
      "source": [
        "## Question 1\n",
        "\n",
        "In this first question, you will implement a few different methods for weight initialization.  This will be done in the `python/needle/init/init_initializers.py` file, which contains a number of routines for initializing needle Tensors using various random and constant initializations.  Following the same methodology of the existing initializers (you will want to call e.g. `init.rand` or `init.randn` implemented in `python/needle/init/init_basic.py` from your functions below, implement the following common initialization methods.  In all cases, the functions should return `fan_in` by `fan_out` 2D tensors (extensions to other sizes can be done via e.g., reshaping).\n",
        "\n",
        "\n",
        "### Xavier uniform\n",
        "`xavier_uniform(fan_in, fan_out, gain=1.0, **kwargs)`\n",
        "\n",
        "Fills the input Tensor with values according to the method described in [Understanding the difficulty of training deep feedforward neural networks](https://proceedings.mlr.press/v9/glorot10a/glorot10a.pdf), using a uniform distribution. The resulting Tensor will have values sampled from $\\mathcal{U}(-a, a)$ where\n",
        "\n",
        "$$a = \\text{gain} \\times \\sqrt{\\frac{6}{\\text{fan\\_in} + \\text{fan\\_out}}}$$\n",
        "\n",
        "Pass remaining `**kwargs` parameters to the corresponding `init` random call.\n",
        "\n",
        "##### Parameters\n",
        "- `fan_in` - dimensionality of input\n",
        "- `fan_out` - dimensionality of output\n",
        "- `gain` - optional scaling factor\n",
        "___\n",
        "\n",
        "### Xavier normal\n",
        "`xavier_normal(fan_in, fan_out, gain=1.0, **kwargs)`\n",
        "\n",
        "Fills the input Tensor with values according to the method described in [Understanding the difficulty of training deep feedforward neural networks](https://proceedings.mlr.press/v9/glorot10a/glorot10a.pdf), using a normal distribution. The resulting Tensor will have values sampled from $\\mathcal{N}(0, \\text{std}^2)$ where\n",
        "\n",
        "$$\\mathrm{std} = \\mathrm{gain} \\times \\sqrt{\\frac{2}{\\mathrm{fan}_{in} + \\mathrm{fan}_{out}}}$$\n",
        "\n",
        "##### Parameters\n",
        "- `fan_in` - dimensionality of input\n",
        "- `fan_out` - dimensionality of output\n",
        "- `gain` - optional scaling factor\n",
        "___\n",
        "\n",
        "### Kaiming uniform\n",
        "`kaiming_uniform(fan_in, fan_out, nonlinearity=\"relu\", **kwargs)`\n",
        "\n",
        "Fills the input Tensor with values according to the method described in [Delving deep into rectifiers: Surpassing human-level performance on ImageNet classification](https://arxiv.org/pdf/1502.01852.pdf), using a uniform distribution. The resulting Tensor will have values sampled from $\\mathcal{U}(-\\text{bound}, \\text{bound})$ where\n",
        "\n",
        "$$\\mathrm{bound} = \\mathrm{gain} \\times \\sqrt{\\frac{3}{\\mathrm{fan}_{in}}}$$\n",
        "\n",
        "Use the recommended gain value for ReLU: $\\text{gain}=\\sqrt{2}$.\n",
        "\n",
        "##### Parameters\n",
        "- `fan_in` - dimensionality of input\n",
        "- `fan_out` - dimensionality of output\n",
        "- `nonlinearity` - the non-linear function\n",
        "___\n",
        "\n",
        "### Kaiming normal\n",
        "`kaiming_normal(fan_in, fan_out, nonlinearity=\"relu\", **kwargs)`\n",
        "\n",
        "Fills the input Tensor with values according to the method described in [Delving deep into rectifiers: Surpassing human-level performance on ImageNet classification](https://arxiv.org/pdf/1502.01852.pdf), using a normal distribution. The resulted Tensor will have values sampled from $\\mathcal{N}(0, \\text{std}^2)$ where\n",
        "\n",
        "$$\\mathrm{std} = \\frac{\\mathrm{gain}}{\\sqrt{\\mathrm{fan}_{in}}}$$\n",
        "\n",
        "Use the recommended gain value for ReLU: $\\text{gain}=\\sqrt{2}$.\n",
        "\n",
        "##### Parameters\n",
        "- `fan_in` - dimensionality of input\n",
        "- `fan_out` - dimensionality of output\n",
        "- `nonlinearity` - the non-linear function"
      ]
    },
    {
      "cell_type": "code",
      "execution_count": 5,
      "metadata": {
        "colab": {
          "base_uri": "https://localhost:8080/"
        },
        "id": "L4ZYCMWL5Mi3",
        "outputId": "e0256ede-fe8f-4f00-971e-af6de51f6b3f"
      },
      "outputs": [
        {
          "output_type": "stream",
          "name": "stdout",
          "text": [
            "\u001b[1m============================= test session starts ==============================\u001b[0m\n",
            "platform linux -- Python 3.12.11, pytest-8.4.2, pluggy-1.6.0 -- /usr/bin/python3\n",
            "cachedir: .pytest_cache\n",
            "rootdir: /content/drive/MyDrive/10714/hw2\n",
            "plugins: langsmith-0.4.31, anyio-4.11.0, typeguard-4.4.4\n",
            "collected 93 items / 89 deselected / 4 selected                                \u001b[0m\n",
            "\n",
            "tests/hw2/test_nn_and_optim.py::test_init_kaiming_uniform \u001b[32mPASSED\u001b[0m\u001b[32m         [ 25%]\u001b[0m\n",
            "tests/hw2/test_nn_and_optim.py::test_init_kaiming_normal \u001b[32mPASSED\u001b[0m\u001b[32m          [ 50%]\u001b[0m\n",
            "tests/hw2/test_nn_and_optim.py::test_init_xavier_uniform \u001b[32mPASSED\u001b[0m\u001b[32m          [ 75%]\u001b[0m\n",
            "tests/hw2/test_nn_and_optim.py::test_init_xavier_normal \u001b[32mPASSED\u001b[0m\u001b[32m           [100%]\u001b[0m\n",
            "\n",
            "\u001b[32m====================== \u001b[32m\u001b[1m4 passed\u001b[0m, \u001b[33m89 deselected\u001b[0m\u001b[32m in 12.70s\u001b[0m\u001b[32m =======================\u001b[0m\n"
          ]
        }
      ],
      "source": [
        "!python3 -m pytest -v -k \"test_init\""
      ]
    },
    {
      "cell_type": "code",
      "execution_count": null,
      "metadata": {
        "id": "dPZYQmvR5Mi3"
      },
      "outputs": [],
      "source": [
        "!python3 -m mugrade submit \"$MY_API_KEY\" \"$HW2_NAME\" -k \"init\""
      ]
    },
    {
      "cell_type": "markdown",
      "metadata": {
        "id": "QsowuSrB5Mi3"
      },
      "source": [
        "## Question 2\n",
        "\n",
        "In this question, you will implement additional modules in `python/needle/nn/nn_basic.py`. Specifically, for the following modules described below, initialize any variables of the module in the constructor, and fill out the `forward` method. **Note:** Be sure that you are using the `init` functions that you just implemented to initialize the parameters, and don't forget to pass the `dtype` argument.\n",
        "___\n",
        "\n",
        "### Linear\n",
        "`needle.nn.Linear(in_features, out_features, bias=True, device=None, dtype=\"float32\")`\n",
        "\n",
        "Applies a linear transformation to the incoming data: $y = xA^T + b$. The input shape is $(N, H_{\\text{in}})$ where $H_{\\text{in}}=\\text{in\\_features}$. The output shape is $(N, H_{\\text{out}})$ where $H_{\\text{out}}=\\text{out\\_features}$.\n",
        "\n",
        "**Be careful to explicitly broadcast the bias term to the correct shape -- Needle does not support implicit broadcasting.**\n",
        "\n",
        "**Note: for all layers including this one, you should initialize the weight Tensor before the bias Tensor, and should initialize all Parameters using only functions from `init`**. This initialization order requirement exists because the test case answers on mugrade were prepared assuming that weights are initialized before bias parameters. While initializing bias before weights would still be algorithmically correct, the model solutions and expected test outputs were generated using the weights-first convention. Therefore, to pass the automated tests on mugrade, you must follow this specific initialization order. If you encounter any ambiguity about which layer or parameter should be initialized first in other parts of this assignment, please raise a request on Ed for clarification.\n",
        "\n",
        "##### Parameters\n",
        "- `in_features` - size of each input sample\n",
        "- `out_features` - size of each output sample\n",
        "- `bias` - If set to `False`, the layer will not learn an additive bias.\n",
        "\n",
        "##### Variables\n",
        "- `weight` - the learnable weights of shape (`in_features`, `out_features`). The values should be **initialized with the Kaiming Uniform initialization** with `fan_in = in_features`\n",
        "- `bias` - the learnable bias of shape (`out_features`). The values should be initialized with the Kaiming Uniform initialization with `fan_in = out_features`. **Note the difference in fan_in choice, due to their relative sizes**.\n",
        "\n",
        "\n",
        "**NOTE:** Make sure to enclose all necessary variables e.g. (`weight`, `bias`) in the **`Parameter` class** so that they are visible to the optimizers which would be implemented next. **You can read `class Parameter` and the function `unpack_params` in `python/needle/nn/nn_basic.py` to understand more.**"
      ]
    },
    {
      "cell_type": "code",
      "execution_count": 11,
      "metadata": {
        "colab": {
          "base_uri": "https://localhost:8080/"
        },
        "id": "UnJGf3GV5Mi3",
        "outputId": "885c8b4f-ad2f-48dc-cde6-3057fc3029c7"
      },
      "outputs": [
        {
          "output_type": "stream",
          "name": "stdout",
          "text": [
            "\u001b[1m============================= test session starts ==============================\u001b[0m\n",
            "platform linux -- Python 3.12.11, pytest-8.4.2, pluggy-1.6.0 -- /usr/bin/python3\n",
            "cachedir: .pytest_cache\n",
            "rootdir: /content/drive/MyDrive/10714/hw2\n",
            "plugins: langsmith-0.4.31, anyio-4.11.0, typeguard-4.4.4\n",
            "collected 93 items / 85 deselected / 8 selected                                \u001b[0m\n",
            "\n",
            "tests/hw2/test_nn_and_optim.py::test_nn_linear_weight_init_1 \u001b[32mPASSED\u001b[0m\u001b[32m      [ 12%]\u001b[0m\n",
            "tests/hw2/test_nn_and_optim.py::test_nn_linear_bias_init_1 \u001b[32mPASSED\u001b[0m\u001b[32m        [ 25%]\u001b[0m\n",
            "tests/hw2/test_nn_and_optim.py::test_nn_linear_forward_1 \u001b[32mPASSED\u001b[0m\u001b[32m          [ 37%]\u001b[0m\n",
            "tests/hw2/test_nn_and_optim.py::test_nn_linear_forward_2 \u001b[32mPASSED\u001b[0m\u001b[32m          [ 50%]\u001b[0m\n",
            "tests/hw2/test_nn_and_optim.py::test_nn_linear_forward_3 \u001b[32mPASSED\u001b[0m\u001b[32m          [ 62%]\u001b[0m\n",
            "tests/hw2/test_nn_and_optim.py::test_nn_linear_backward_1 \u001b[32mPASSED\u001b[0m\u001b[32m         [ 75%]\u001b[0m\n",
            "tests/hw2/test_nn_and_optim.py::test_nn_linear_backward_2 \u001b[32mPASSED\u001b[0m\u001b[32m         [ 87%]\u001b[0m\n",
            "tests/hw2/test_nn_and_optim.py::test_nn_linear_backward_3 \u001b[32mPASSED\u001b[0m\u001b[32m         [100%]\u001b[0m\n",
            "\n",
            "\u001b[32m======================= \u001b[32m\u001b[1m8 passed\u001b[0m, \u001b[33m85 deselected\u001b[0m\u001b[32m in 0.46s\u001b[0m\u001b[32m =======================\u001b[0m\n"
          ]
        }
      ],
      "source": [
        "!python3 -m pytest -v -k \"test_nn_linear\""
      ]
    },
    {
      "cell_type": "code",
      "execution_count": 12,
      "metadata": {
        "colab": {
          "base_uri": "https://localhost:8080/"
        },
        "id": "ZQbjt2f15Mi3",
        "outputId": "9303a0d2-c9f5-42be-a313-0cedbec75898"
      },
      "outputs": [
        {
          "output_type": "stream",
          "name": "stdout",
          "text": [
            "submit\n",
            "\u001b[1m============================= test session starts ==============================\u001b[0m\n",
            "platform linux -- Python 3.12.11, pytest-8.4.2, pluggy-1.6.0\n",
            "rootdir: /content/drive/MyDrive/10714/hw2\n",
            "plugins: langsmith-0.4.31, anyio-4.11.0, typeguard-4.4.4\n",
            "collected 19 items / 18 deselected / 1 selected                                \u001b[0m\n",
            "\n",
            "tests/hw2/test_nn_and_optim.py \n",
            "Submitting nn_linear...\n",
            "Grader test 1 passed\n",
            "Grader test 2 passed\n",
            "Grader test 3 passed\n",
            "Grader test 4 passed\n",
            "Grader test 5 passed\n",
            "Grader test 6 passed\n",
            "\u001b[32m.\u001b[0m\n",
            "\n",
            "\u001b[32m======================= \u001b[32m\u001b[1m1 passed\u001b[0m, \u001b[33m18 deselected\u001b[0m\u001b[32m in 1.99s\u001b[0m\u001b[32m =======================\u001b[0m\n"
          ]
        }
      ],
      "source": [
        "!python3 -m mugrade submit \"$MY_API_KEY\" \"$HW2_NAME\" -k \"nn_linear\""
      ]
    },
    {
      "cell_type": "markdown",
      "metadata": {
        "id": "Fl0e15ys5Mi3"
      },
      "source": [
        "### ReLU\n",
        "`needle.nn.ReLU()`\n",
        "\n",
        "Applies the rectified linear unit function element-wise:\n",
        "$ReLU(x) = max(0, x)$.\n",
        "\n",
        "If you have previously implemented ReLU's backwards pass in terms of itself, note that this is numerically unstable and will likely cause problems\n",
        "down the line.\n",
        "Instead, consider that we could write the derivative of ReLU as $I\\{x>0\\}$, where, for this assignment, we arbitrarily decide and fix the convention that we will consider the derivative at $x=0$ to be 0.\n",
        "(This is a _subdifferentiable_ function.)\n",
        "\n",
        "___"
      ]
    },
    {
      "cell_type": "code",
      "execution_count": 13,
      "metadata": {
        "colab": {
          "base_uri": "https://localhost:8080/"
        },
        "id": "FDMfpmc85Mi4",
        "outputId": "6bf32d93-5493-4ccb-8b9b-051b82e3534b"
      },
      "outputs": [
        {
          "output_type": "stream",
          "name": "stdout",
          "text": [
            "\u001b[1m============================= test session starts ==============================\u001b[0m\n",
            "platform linux -- Python 3.12.11, pytest-8.4.2, pluggy-1.6.0 -- /usr/bin/python3\n",
            "cachedir: .pytest_cache\n",
            "rootdir: /content/drive/MyDrive/10714/hw2\n",
            "plugins: langsmith-0.4.31, anyio-4.11.0, typeguard-4.4.4\n",
            "collected 93 items / 91 deselected / 2 selected                                \u001b[0m\n",
            "\n",
            "tests/hw2/test_nn_and_optim.py::test_nn_relu_forward_1 \u001b[32mPASSED\u001b[0m\u001b[32m            [ 50%]\u001b[0m\n",
            "tests/hw2/test_nn_and_optim.py::test_nn_relu_backward_1 \u001b[32mPASSED\u001b[0m\u001b[32m           [100%]\u001b[0m\n",
            "\n",
            "\u001b[32m======================= \u001b[32m\u001b[1m2 passed\u001b[0m, \u001b[33m91 deselected\u001b[0m\u001b[32m in 0.51s\u001b[0m\u001b[32m =======================\u001b[0m\n"
          ]
        }
      ],
      "source": [
        "!python3 -m pytest -v -k \"test_nn_relu\""
      ]
    },
    {
      "cell_type": "code",
      "execution_count": 14,
      "metadata": {
        "colab": {
          "base_uri": "https://localhost:8080/"
        },
        "id": "ktS5HbFD5Mi4",
        "outputId": "ae24ddcf-29f5-4b4e-9e07-1e18bdcd1263"
      },
      "outputs": [
        {
          "output_type": "stream",
          "name": "stdout",
          "text": [
            "submit\n",
            "\u001b[1m============================= test session starts ==============================\u001b[0m\n",
            "platform linux -- Python 3.12.11, pytest-8.4.2, pluggy-1.6.0\n",
            "rootdir: /content/drive/MyDrive/10714/hw2\n",
            "plugins: langsmith-0.4.31, anyio-4.11.0, typeguard-4.4.4\n",
            "collected 19 items / 18 deselected / 1 selected                                \u001b[0m\n",
            "\n",
            "tests/hw2/test_nn_and_optim.py \n",
            "Submitting nn_relu...\n",
            "Grader test 1 passed\n",
            "Grader test 2 passed\n",
            "\u001b[32m.\u001b[0m\n",
            "\n",
            "\u001b[32m======================= \u001b[32m\u001b[1m1 passed\u001b[0m, \u001b[33m18 deselected\u001b[0m\u001b[32m in 1.18s\u001b[0m\u001b[32m =======================\u001b[0m\n"
          ]
        }
      ],
      "source": [
        "!python3 -m mugrade submit \"$MY_API_KEY\" \"$HW2_NAME\" -k \"nn_relu\""
      ]
    },
    {
      "cell_type": "markdown",
      "metadata": {
        "tags": [],
        "id": "Z_J5E1Z_5Mi4"
      },
      "source": [
        "### Sequential\n",
        "`needle.nn.Sequential(*modules)`\n",
        "\n",
        "Applies a sequence of modules to the input (in the order that they were passed to the constructor) and returns the output of the last module.\n",
        "These should be kept in a `.module` property: you should _not_ redefine any magic methods like `__getitem__`, as this may not be compatible with our tests.\n",
        "\n",
        "##### Parameters\n",
        "- `*modules` - any number of modules of type `needle.nn.Module`\n",
        "\n",
        "___"
      ]
    },
    {
      "cell_type": "code",
      "execution_count": 15,
      "metadata": {
        "colab": {
          "base_uri": "https://localhost:8080/"
        },
        "id": "G1cr1XH45Mi4",
        "outputId": "34f2d7d5-ff78-425c-cd6b-066249ba3491"
      },
      "outputs": [
        {
          "output_type": "stream",
          "name": "stdout",
          "text": [
            "\u001b[1m============================= test session starts ==============================\u001b[0m\n",
            "platform linux -- Python 3.12.11, pytest-8.4.2, pluggy-1.6.0 -- /usr/bin/python3\n",
            "cachedir: .pytest_cache\n",
            "rootdir: /content/drive/MyDrive/10714/hw2\n",
            "plugins: langsmith-0.4.31, anyio-4.11.0, typeguard-4.4.4\n",
            "collected 93 items / 91 deselected / 2 selected                                \u001b[0m\n",
            "\n",
            "tests/hw2/test_nn_and_optim.py::test_nn_sequential_forward_1 \u001b[32mPASSED\u001b[0m\u001b[32m      [ 50%]\u001b[0m\n",
            "tests/hw2/test_nn_and_optim.py::test_nn_sequential_backward_1 \u001b[32mPASSED\u001b[0m\u001b[32m     [100%]\u001b[0m\n",
            "\n",
            "\u001b[32m======================= \u001b[32m\u001b[1m2 passed\u001b[0m, \u001b[33m91 deselected\u001b[0m\u001b[32m in 0.73s\u001b[0m\u001b[32m =======================\u001b[0m\n"
          ]
        }
      ],
      "source": [
        "!python3 -m pytest -v -k \"test_nn_sequential\""
      ]
    },
    {
      "cell_type": "code",
      "execution_count": 16,
      "metadata": {
        "colab": {
          "base_uri": "https://localhost:8080/"
        },
        "id": "cEzF-E5z5Mi4",
        "outputId": "3e69d9ad-59f6-47b9-d4ce-3ecdadfd06f4"
      },
      "outputs": [
        {
          "output_type": "stream",
          "name": "stdout",
          "text": [
            "submit\n",
            "\u001b[1m============================= test session starts ==============================\u001b[0m\n",
            "platform linux -- Python 3.12.11, pytest-8.4.2, pluggy-1.6.0\n",
            "rootdir: /content/drive/MyDrive/10714/hw2\n",
            "plugins: langsmith-0.4.31, anyio-4.11.0, typeguard-4.4.4\n",
            "collected 19 items / 18 deselected / 1 selected                                \u001b[0m\n",
            "\n",
            "tests/hw2/test_nn_and_optim.py \n",
            "Submitting nn_sequential...\n",
            "Grader test 1 passed\n",
            "Grader test 2 passed\n",
            "\u001b[32m.\u001b[0m\n",
            "\n",
            "\u001b[32m======================= \u001b[32m\u001b[1m1 passed\u001b[0m, \u001b[33m18 deselected\u001b[0m\u001b[32m in 1.20s\u001b[0m\u001b[32m =======================\u001b[0m\n"
          ]
        }
      ],
      "source": [
        "!python3 -m mugrade submit \"$MY_API_KEY\" \"$HW2_NAME\" -k \"nn_sequential\""
      ]
    },
    {
      "cell_type": "markdown",
      "metadata": {
        "tags": [],
        "id": "tz85ZT9r5Mi4"
      },
      "source": [
        "### LogSumExp\n",
        "\n",
        "`needle.ops.LogSumExp(axes)`\n",
        "\n",
        "Applies a numerically stable log-sum-exp function to the input by subtracting off the maximum elements. You will need to implement this and the next operation in file `python/needle/ops/ops_logarithmic.py`.\n",
        "\n",
        "\\begin{equation}\n",
        "\\text{LogSumExp}(z) = \\log (\\sum_{i} \\exp (z_i - \\max{z})) + \\max{z}\n",
        "\\end{equation}\n",
        "\n",
        "#### Parameters\n",
        "- `axes` - Tuple of axes to sum and take the maximum element over. This uses the same conventions as `needle.ops.Summation()`\n",
        "\n",
        "##### Why This Formulation? Handling Numerical Stability\n",
        "\n",
        "- **Naive definition:**  \n",
        "  The most direct way to define LogSumExp is  \n",
        "\n",
        "  $$\n",
        "  \\log \\left(\\sum_i \\exp(z_i)\\right)\n",
        "  $$\n",
        "\n",
        "- **The problem:**  \n",
        "  This naive computation is prone to numerical instability.  \n",
        "  - If some $z_i$ is very large (e.g. $1000$), then $\\exp(z_i)$ will overflow to $\\infty$.  \n",
        "  - If some $z_i$ is very small (e.g. $-1000$), then $\\exp(z_i)$ will underflow to $0$.  \n",
        "  Both cases can distort the result in floating-point arithmetic.  \n",
        "\n",
        "- **The fix:**  \n",
        "  To avoid this, we factor out the maximum element $M = \\max(z)$:  \n",
        "\n",
        "  $$\n",
        "  \\log \\left(\\sum_i \\exp(z_i)\\right)\n",
        "  = \\log \\left(\\exp(M)\\sum_i \\exp(z_i - M)\\right)\n",
        "  = M + \\log \\left(\\sum_i \\exp(z_i - M)\\right).\n",
        "  $$\n",
        "\n",
        "  Now all exponentials are at most $\\exp(0) = 1$, so overflow is completely avoided.  \n",
        "\n",
        "- **What about underflow?**  \n",
        "  Underflow can still occur if $z_i - M$ is very negative (e.g. $-1000$), since $\\exp(-1000) \\approx 0$ in floating-point.  \n",
        "  However, this is not a problem: such terms are already negligible compared to the maximum and do not meaningfully affect the sum.  \n",
        "\n",
        "\n",
        "The following blog post is also a good reference: https://indii.org/blog/gradients-of-softmax-and-logsumexp/\n",
        "___"
      ]
    },
    {
      "cell_type": "code",
      "execution_count": 18,
      "metadata": {
        "colab": {
          "base_uri": "https://localhost:8080/"
        },
        "id": "qZQXAzRz5Mi4",
        "outputId": "e2bc47a2-fef3-420a-b73a-78b75ae8b95d"
      },
      "outputs": [
        {
          "output_type": "stream",
          "name": "stdout",
          "text": [
            "\u001b[1m============================= test session starts ==============================\u001b[0m\n",
            "platform linux -- Python 3.12.11, pytest-8.4.2, pluggy-1.6.0 -- /usr/bin/python3\n",
            "cachedir: .pytest_cache\n",
            "rootdir: /content/drive/MyDrive/10714/hw2\n",
            "plugins: langsmith-0.4.31, anyio-4.11.0, typeguard-4.4.4\n",
            "collected 93 items / 83 deselected / 10 selected                               \u001b[0m\n",
            "\n",
            "tests/hw2/test_nn_and_optim.py::test_op_logsumexp_forward_1 \u001b[32mPASSED\u001b[0m\u001b[32m       [ 10%]\u001b[0m\n",
            "tests/hw2/test_nn_and_optim.py::test_op_logsumexp_forward_2 \u001b[32mPASSED\u001b[0m\u001b[32m       [ 20%]\u001b[0m\n",
            "tests/hw2/test_nn_and_optim.py::test_op_logsumexp_forward_3 \u001b[32mPASSED\u001b[0m\u001b[32m       [ 30%]\u001b[0m\n",
            "tests/hw2/test_nn_and_optim.py::test_op_logsumexp_forward_4 \u001b[32mPASSED\u001b[0m\u001b[32m       [ 40%]\u001b[0m\n",
            "tests/hw2/test_nn_and_optim.py::test_op_logsumexp_forward_5 \u001b[32mPASSED\u001b[0m\u001b[32m       [ 50%]\u001b[0m\n",
            "tests/hw2/test_nn_and_optim.py::test_op_logsumexp_backward_1 \u001b[32mPASSED\u001b[0m\u001b[32m      [ 60%]\u001b[0m\n",
            "tests/hw2/test_nn_and_optim.py::test_op_logsumexp_backward_2 \u001b[32mPASSED\u001b[0m\u001b[32m      [ 70%]\u001b[0m\n",
            "tests/hw2/test_nn_and_optim.py::test_op_logsumexp_backward_3 \u001b[32mPASSED\u001b[0m\u001b[32m      [ 80%]\u001b[0m\n",
            "tests/hw2/test_nn_and_optim.py::test_op_logsumexp_backward_5 \u001b[32mPASSED\u001b[0m\u001b[32m      [ 90%]\u001b[0m\n",
            "tests/hw2/test_nn_and_optim.py::test_op_logsumexp_backward_4 \u001b[32mPASSED\u001b[0m\u001b[32m      [100%]\u001b[0m\n",
            "\n",
            "\u001b[32m====================== \u001b[32m\u001b[1m10 passed\u001b[0m, \u001b[33m83 deselected\u001b[0m\u001b[32m in 0.48s\u001b[0m\u001b[32m =======================\u001b[0m\n"
          ]
        }
      ],
      "source": [
        "!python3 -m pytest -v -k \"test_op_logsumexp\""
      ]
    },
    {
      "cell_type": "code",
      "execution_count": 26,
      "metadata": {
        "colab": {
          "base_uri": "https://localhost:8080/"
        },
        "id": "WeycgUi65Mi4",
        "outputId": "81f4f44c-65c8-4c15-9667-51b7b3b5212a"
      },
      "outputs": [
        {
          "output_type": "stream",
          "name": "stdout",
          "text": [
            "submit\n",
            "\u001b[1m============================= test session starts ==============================\u001b[0m\n",
            "platform linux -- Python 3.12.11, pytest-8.4.2, pluggy-1.6.0\n",
            "rootdir: /content/drive/MyDrive/10714/hw2\n",
            "plugins: langsmith-0.4.31, anyio-4.11.0, typeguard-4.4.4\n",
            "collected 19 items / 18 deselected / 1 selected                                \u001b[0m\n",
            "\n",
            "tests/hw2/test_nn_and_optim.py \n",
            "Submitting op_logsumexp...\n",
            "Grader test 1 passed\n",
            "Grader test 2 passed\n",
            "Grader test 3 passed\n",
            "Grader test 4 passed\n",
            "Grader test 5 passed\n",
            "Grader test 6 passed\n",
            "Grader test 7 passed\n",
            "Grader test 8 passed\n",
            "Grader test 9 passed\n",
            "Grader test 10 passed\n",
            "\u001b[32m.\u001b[0m\n",
            "\n",
            "\u001b[32m======================= \u001b[32m\u001b[1m1 passed\u001b[0m, \u001b[33m18 deselected\u001b[0m\u001b[32m in 2.67s\u001b[0m\u001b[32m =======================\u001b[0m\n"
          ]
        }
      ],
      "source": [
        "!python3 -m mugrade submit \"$MY_API_KEY\" \"$HW2_NAME\" -k \"op_logsumexp\""
      ]
    },
    {
      "cell_type": "markdown",
      "metadata": {
        "id": "6_Wcv0ET5Mi4"
      },
      "source": [
        "### LogSoftmax\n",
        "\n",
        "`needle.ops.LogSoftmax(axes)`\n",
        "\n",
        "Applies a numerically stable logsoftmax function to the input by subtracting off the maximum elements.\n",
        "For this question, you can assume the input NDArray is 2 dimensional and we are doing softmax over `axis=1`.\n",
        "\n",
        "\\begin{equation}\n",
        "\\text{LogSoftmax}(z) = \\log \\left(\\frac{\\exp(z_i - \\max z)}{\\sum_{i}\\exp(z_i - \\max z)}\\right) = z - \\text{LogSumExp}(z)\n",
        "\\end{equation}\n",
        "___"
      ]
    },
    {
      "cell_type": "code",
      "execution_count": 27,
      "metadata": {
        "colab": {
          "base_uri": "https://localhost:8080/"
        },
        "id": "H5PJM_1q5Mi5",
        "outputId": "6cc6c21e-affd-4c28-907a-df74c8d51275"
      },
      "outputs": [
        {
          "output_type": "stream",
          "name": "stdout",
          "text": [
            "\u001b[1m============================= test session starts ==============================\u001b[0m\n",
            "platform linux -- Python 3.12.11, pytest-8.4.2, pluggy-1.6.0 -- /usr/bin/python3\n",
            "cachedir: .pytest_cache\n",
            "rootdir: /content/drive/MyDrive/10714/hw2\n",
            "plugins: langsmith-0.4.31, anyio-4.11.0, typeguard-4.4.4\n",
            "collected 93 items / 90 deselected / 3 selected                                \u001b[0m\n",
            "\n",
            "tests/hw2/test_nn_and_optim.py::test_op_logsoftmax_forward_1 \u001b[32mPASSED\u001b[0m\u001b[32m      [ 33%]\u001b[0m\n",
            "tests/hw2/test_nn_and_optim.py::test_op_logsoftmax_stable_forward_1 \u001b[32mPASSED\u001b[0m\u001b[32m [ 66%]\u001b[0m\n",
            "tests/hw2/test_nn_and_optim.py::test_op_logsoftmax_backward_1 \u001b[32mPASSED\u001b[0m\u001b[32m     [100%]\u001b[0m\n",
            "\n",
            "\u001b[32m======================= \u001b[32m\u001b[1m3 passed\u001b[0m, \u001b[33m90 deselected\u001b[0m\u001b[32m in 0.50s\u001b[0m\u001b[32m =======================\u001b[0m\n"
          ]
        }
      ],
      "source": [
        "!python3 -m pytest -v -k \"test_op_logsoftmax\""
      ]
    },
    {
      "cell_type": "code",
      "execution_count": 28,
      "metadata": {
        "colab": {
          "base_uri": "https://localhost:8080/"
        },
        "id": "a9W2EtRn5Mi5",
        "outputId": "65907364-bffc-4ce4-ad21-c7d451c5d73b"
      },
      "outputs": [
        {
          "output_type": "stream",
          "name": "stdout",
          "text": [
            "submit\n",
            "\u001b[1m============================= test session starts ==============================\u001b[0m\n",
            "platform linux -- Python 3.12.11, pytest-8.4.2, pluggy-1.6.0\n",
            "rootdir: /content/drive/MyDrive/10714/hw2\n",
            "plugins: langsmith-0.4.31, anyio-4.11.0, typeguard-4.4.4\n",
            "collected 19 items / 18 deselected / 1 selected                                \u001b[0m\n",
            "\n",
            "tests/hw2/test_nn_and_optim.py \n",
            "Submitting op_logsoftmax...\n",
            "Grader test 1 passed\n",
            "Grader test 2 passed\n",
            "Grader test 3 passed\n",
            "Grader test 4 passed\n",
            "Grader test 5 passed\n",
            "\u001b[32m.\u001b[0m\n",
            "\n",
            "\u001b[32m======================= \u001b[32m\u001b[1m1 passed\u001b[0m, \u001b[33m18 deselected\u001b[0m\u001b[32m in 1.80s\u001b[0m\u001b[32m =======================\u001b[0m\n"
          ]
        }
      ],
      "source": [
        "!python3 -m mugrade submit \"$MY_API_KEY\" \"$HW2_NAME\" -k \"op_logsoftmax\""
      ]
    },
    {
      "cell_type": "markdown",
      "metadata": {
        "tags": [],
        "id": "3n6nkTfL5Mi5"
      },
      "source": [
        "### SoftmaxLoss\n",
        "\n",
        "`needle.nn.SoftmaxLoss()` in `python/needle/nn/nn_basic.py`\n",
        "\n",
        "Applies the softmax loss as defined below (and as implemented in Homework 1), taking in as input a Tensor of logits and a Tensor of the true labels (expressed as a list of numbers, *not* one-hot encoded).\n",
        "\n",
        "Note that you can use the `init.one_hot` function now instead of writing this yourself.  Note: You will need to use the numerically stable logsumexp operator you just implemented for this purpose.\n",
        "\n",
        "\\begin{equation}\n",
        "\\ell_\\text{softmax}(z,y) = \\log \\sum_{i=1}^k \\exp z_i - z_y\n",
        "\\end{equation}\n",
        "\n",
        "___"
      ]
    },
    {
      "cell_type": "code",
      "execution_count": 31,
      "metadata": {
        "colab": {
          "base_uri": "https://localhost:8080/"
        },
        "id": "MdZGbbVr5Mi5",
        "outputId": "2ad279a5-96a2-42f3-cfa0-caac783c77d2"
      },
      "outputs": [
        {
          "output_type": "stream",
          "name": "stdout",
          "text": [
            "\u001b[1m============================= test session starts ==============================\u001b[0m\n",
            "platform linux -- Python 3.12.11, pytest-8.4.2, pluggy-1.6.0 -- /usr/bin/python3\n",
            "cachedir: .pytest_cache\n",
            "rootdir: /content/drive/MyDrive/10714/hw2\n",
            "plugins: langsmith-0.4.31, anyio-4.11.0, typeguard-4.4.4\n",
            "collected 93 items / 89 deselected / 4 selected                                \u001b[0m\n",
            "\n",
            "tests/hw2/test_nn_and_optim.py::test_nn_softmax_loss_forward_1 \u001b[32mPASSED\u001b[0m\u001b[32m    [ 25%]\u001b[0m\n",
            "tests/hw2/test_nn_and_optim.py::test_nn_softmax_loss_forward_2 \u001b[32mPASSED\u001b[0m\u001b[32m    [ 50%]\u001b[0m\n",
            "tests/hw2/test_nn_and_optim.py::test_nn_softmax_loss_backward_1 \u001b[32mPASSED\u001b[0m\u001b[32m   [ 75%]\u001b[0m\n",
            "tests/hw2/test_nn_and_optim.py::test_nn_softmax_loss_backward_2 \u001b[32mPASSED\u001b[0m\u001b[32m   [100%]\u001b[0m\n",
            "\n",
            "\u001b[32m======================= \u001b[32m\u001b[1m4 passed\u001b[0m, \u001b[33m89 deselected\u001b[0m\u001b[32m in 0.43s\u001b[0m\u001b[32m =======================\u001b[0m\n"
          ]
        }
      ],
      "source": [
        "!python3 -m pytest -v -k \"test_nn_softmax_loss\""
      ]
    },
    {
      "cell_type": "code",
      "execution_count": 32,
      "metadata": {
        "colab": {
          "base_uri": "https://localhost:8080/"
        },
        "id": "2E6Pq0VL5Mi5",
        "outputId": "530a7349-5347-4871-9383-2db6470713db"
      },
      "outputs": [
        {
          "output_type": "stream",
          "name": "stdout",
          "text": [
            "submit\n",
            "\u001b[1m============================= test session starts ==============================\u001b[0m\n",
            "platform linux -- Python 3.12.11, pytest-8.4.2, pluggy-1.6.0\n",
            "rootdir: /content/drive/MyDrive/10714/hw2\n",
            "plugins: langsmith-0.4.31, anyio-4.11.0, typeguard-4.4.4\n",
            "collected 19 items / 18 deselected / 1 selected                                \u001b[0m\n",
            "\n",
            "tests/hw2/test_nn_and_optim.py \n",
            "Submitting nn_softmax_loss...\n",
            "Grader test 1 passed\n",
            "Grader test 2 passed\n",
            "Grader test 3 passed\n",
            "Grader test 4 passed\n",
            "\u001b[32m.\u001b[0m\n",
            "\n",
            "\u001b[32m======================= \u001b[32m\u001b[1m1 passed\u001b[0m, \u001b[33m18 deselected\u001b[0m\u001b[32m in 1.89s\u001b[0m\u001b[32m =======================\u001b[0m\n"
          ]
        }
      ],
      "source": [
        "!python3 -m mugrade submit \"$MY_API_KEY\" \"$HW2_NAME\" -k \"nn_softmax_loss\""
      ]
    },
    {
      "cell_type": "markdown",
      "metadata": {
        "tags": [],
        "id": "rG4Jriru5Mi5"
      },
      "source": [
        "### LayerNorm1d\n",
        "`needle.nn.LayerNorm1d(dim, eps=1e-5, device=None, dtype=\"float32\")`\n",
        "\n",
        "Applies layer normalization over a mini-batch of inputs as described in the paper [Layer Normalization](https://arxiv.org/abs/1607.06450).\n",
        "\n",
        "\\begin{equation}\n",
        "y = w \\circ \\frac{x_i - \\textbf{E}[x]}{((\\textbf{Var}[x]+\\epsilon)^{1/2})} + b\n",
        "\\end{equation}\n",
        "\n",
        "where $\\textbf{E}[x]$ denotes the empirical mean of the inputs, $\\textbf{Var}[x]$ denotes their empirical variance (note that here we are using the \"biased\" estimate of the variance, i.e., dividing by $N$ rather than by $N-1$), and $w$ and $b$ denote learnable scalar weights and biases respectively.  Note you can assume the input to this layer is a 2D tensor, with batches in the first dimension and features in the second. You might need to broadcast the weight and bias before applying them.\n",
        "\n",
        "##### Parameters\n",
        "- `dim` - number of channels\n",
        "- `eps` - a value added to the denominator for numerical stability.\n",
        "\n",
        "##### Variables\n",
        "- `weight` - the learnable weights of size `dim`, elements initialized to 1.\n",
        "- `bias` - the learnable bias of shape `dim`, elements initialized to 0.\n",
        "___"
      ]
    },
    {
      "cell_type": "code",
      "execution_count": 35,
      "metadata": {
        "colab": {
          "base_uri": "https://localhost:8080/"
        },
        "id": "dmThkjdr5Mi5",
        "outputId": "29bca001-c487-48d8-8841-2cfbdd96226f"
      },
      "outputs": [
        {
          "output_type": "stream",
          "name": "stdout",
          "text": [
            "\u001b[1m============================= test session starts ==============================\u001b[0m\n",
            "platform linux -- Python 3.12.11, pytest-8.4.2, pluggy-1.6.0 -- /usr/bin/python3\n",
            "cachedir: .pytest_cache\n",
            "rootdir: /content/drive/MyDrive/10714/hw2\n",
            "plugins: langsmith-0.4.31, anyio-4.11.0, typeguard-4.4.4\n",
            "collected 93 items / 86 deselected / 7 selected                                \u001b[0m\n",
            "\n",
            "tests/hw2/test_nn_and_optim.py::test_nn_layernorm_forward_1 \u001b[32mPASSED\u001b[0m\u001b[32m       [ 14%]\u001b[0m\n",
            "tests/hw2/test_nn_and_optim.py::test_nn_layernorm_forward_2 \u001b[32mPASSED\u001b[0m\u001b[32m       [ 28%]\u001b[0m\n",
            "tests/hw2/test_nn_and_optim.py::test_nn_layernorm_forward_3 \u001b[32mPASSED\u001b[0m\u001b[32m       [ 42%]\u001b[0m\n",
            "tests/hw2/test_nn_and_optim.py::test_nn_layernorm_backward_1 \u001b[32mPASSED\u001b[0m\u001b[32m      [ 57%]\u001b[0m\n",
            "tests/hw2/test_nn_and_optim.py::test_nn_layernorm_backward_2 \u001b[32mPASSED\u001b[0m\u001b[32m      [ 71%]\u001b[0m\n",
            "tests/hw2/test_nn_and_optim.py::test_nn_layernorm_backward_3 \u001b[32mPASSED\u001b[0m\u001b[32m      [ 85%]\u001b[0m\n",
            "tests/hw2/test_nn_and_optim.py::test_nn_layernorm_backward_4 \u001b[32mPASSED\u001b[0m\u001b[32m      [100%]\u001b[0m\n",
            "\n",
            "\u001b[32m======================= \u001b[32m\u001b[1m7 passed\u001b[0m, \u001b[33m86 deselected\u001b[0m\u001b[32m in 0.52s\u001b[0m\u001b[32m =======================\u001b[0m\n"
          ]
        }
      ],
      "source": [
        "!python3 -m pytest -v -k \"test_nn_layernorm\""
      ]
    },
    {
      "cell_type": "code",
      "execution_count": 36,
      "metadata": {
        "colab": {
          "base_uri": "https://localhost:8080/"
        },
        "id": "TkE7-ncL5Mi5",
        "outputId": "5a8f7ff7-f551-4d52-fbf2-204420fbe49e"
      },
      "outputs": [
        {
          "output_type": "stream",
          "name": "stdout",
          "text": [
            "submit\n",
            "\u001b[1m============================= test session starts ==============================\u001b[0m\n",
            "platform linux -- Python 3.12.11, pytest-8.4.2, pluggy-1.6.0\n",
            "rootdir: /content/drive/MyDrive/10714/hw2\n",
            "plugins: langsmith-0.4.31, anyio-4.11.0, typeguard-4.4.4\n",
            "collected 19 items / 18 deselected / 1 selected                                \u001b[0m\n",
            "\n",
            "tests/hw2/test_nn_and_optim.py \n",
            "Submitting nn_layernorm...\n",
            "Grader test 1 passed\n",
            "Grader test 2 passed\n",
            "Grader test 3 passed\n",
            "Grader test 4 passed\n",
            "Grader test 5 passed\n",
            "Grader test 6 passed\n",
            "Grader test 7 passed\n",
            "Grader test 8 passed\n",
            "\u001b[32m.\u001b[0m\n",
            "\n",
            "\u001b[32m======================= \u001b[32m\u001b[1m1 passed\u001b[0m, \u001b[33m18 deselected\u001b[0m\u001b[32m in 2.42s\u001b[0m\u001b[32m =======================\u001b[0m\n"
          ]
        }
      ],
      "source": [
        "!python3 -m mugrade submit \"$MY_API_KEY\" \"$HW2_NAME\" -k \"nn_layernorm\""
      ]
    },
    {
      "cell_type": "markdown",
      "metadata": {
        "id": "v3Iss6AX5Mi5"
      },
      "source": [
        "\n",
        "### Flatten\n",
        "`needle.nn.Flatten()`\n",
        "\n",
        "Takes in a tensor of shape `(B,X_0,X_1,...)`, and flattens all non-batch dimensions so that the output is of shape `(B, X_0 * X_1 * ...)`"
      ]
    },
    {
      "cell_type": "code",
      "execution_count": 37,
      "metadata": {
        "colab": {
          "base_uri": "https://localhost:8080/"
        },
        "id": "9FIlwNBl5Mi5",
        "outputId": "d89330f2-4440-426d-b791-772ff101f339"
      },
      "outputs": [
        {
          "output_type": "stream",
          "name": "stdout",
          "text": [
            "\u001b[1m============================= test session starts ==============================\u001b[0m\n",
            "platform linux -- Python 3.12.11, pytest-8.4.2, pluggy-1.6.0 -- /usr/bin/python3\n",
            "cachedir: .pytest_cache\n",
            "rootdir: /content/drive/MyDrive/10714/hw2\n",
            "plugins: langsmith-0.4.31, anyio-4.11.0, typeguard-4.4.4\n",
            "collected 93 items / 84 deselected / 9 selected                                \u001b[0m\n",
            "\n",
            "tests/hw2/test_nn_and_optim.py::test_nn_flatten_forward_1 \u001b[32mPASSED\u001b[0m\u001b[32m         [ 11%]\u001b[0m\n",
            "tests/hw2/test_nn_and_optim.py::test_nn_flatten_forward_2 \u001b[32mPASSED\u001b[0m\u001b[32m         [ 22%]\u001b[0m\n",
            "tests/hw2/test_nn_and_optim.py::test_nn_flatten_forward_3 \u001b[32mPASSED\u001b[0m\u001b[32m         [ 33%]\u001b[0m\n",
            "tests/hw2/test_nn_and_optim.py::test_nn_flatten_forward_4 \u001b[32mPASSED\u001b[0m\u001b[32m         [ 44%]\u001b[0m\n",
            "tests/hw2/test_nn_and_optim.py::test_nn_flatten_backward_1 \u001b[32mPASSED\u001b[0m\u001b[32m        [ 55%]\u001b[0m\n",
            "tests/hw2/test_nn_and_optim.py::test_nn_flatten_backward_2 \u001b[32mPASSED\u001b[0m\u001b[32m        [ 66%]\u001b[0m\n",
            "tests/hw2/test_nn_and_optim.py::test_nn_flatten_backward_3 \u001b[32mPASSED\u001b[0m\u001b[32m        [ 77%]\u001b[0m\n",
            "tests/hw2/test_nn_and_optim.py::test_nn_flatten_backward_4 \u001b[32mPASSED\u001b[0m\u001b[32m        [ 88%]\u001b[0m\n",
            "tests/hw2/test_nn_and_optim.py::test_nn_flatten_backward_5 \u001b[32mPASSED\u001b[0m\u001b[32m        [100%]\u001b[0m\n",
            "\n",
            "\u001b[32m======================= \u001b[32m\u001b[1m9 passed\u001b[0m, \u001b[33m84 deselected\u001b[0m\u001b[32m in 0.51s\u001b[0m\u001b[32m =======================\u001b[0m\n"
          ]
        }
      ],
      "source": [
        "!python3 -m pytest -v -k \"test_nn_flatten\""
      ]
    },
    {
      "cell_type": "code",
      "execution_count": 38,
      "metadata": {
        "colab": {
          "base_uri": "https://localhost:8080/"
        },
        "id": "ZagjfwFU5Mi6",
        "outputId": "5eb118a0-b700-494f-e9f1-071235c30252"
      },
      "outputs": [
        {
          "output_type": "stream",
          "name": "stdout",
          "text": [
            "submit\n",
            "\u001b[1m============================= test session starts ==============================\u001b[0m\n",
            "platform linux -- Python 3.12.11, pytest-8.4.2, pluggy-1.6.0\n",
            "rootdir: /content/drive/MyDrive/10714/hw2\n",
            "plugins: langsmith-0.4.31, anyio-4.11.0, typeguard-4.4.4\n",
            "collected 19 items / 18 deselected / 1 selected                                \u001b[0m\n",
            "\n",
            "tests/hw2/test_nn_and_optim.py \n",
            "Submitting nn_flatten...\n",
            "Grader test 1 passed\n",
            "Grader test 2 passed\n",
            "Grader test 3 passed\n",
            "Grader test 4 passed\n",
            "Grader test 5 passed\n",
            "Grader test 6 passed\n",
            "Grader test 7 passed\n",
            "Grader test 8 passed\n",
            "\u001b[32m.\u001b[0m\n",
            "\n",
            "\u001b[32m======================= \u001b[32m\u001b[1m1 passed\u001b[0m, \u001b[33m18 deselected\u001b[0m\u001b[32m in 2.01s\u001b[0m\u001b[32m =======================\u001b[0m\n"
          ]
        }
      ],
      "source": [
        "!python3 -m mugrade submit \"$MY_API_KEY\" \"$HW2_NAME\" -k \"nn_flatten\""
      ]
    },
    {
      "cell_type": "markdown",
      "metadata": {
        "id": "piy4lJfh5Mi6"
      },
      "source": [
        "### BatchNorm1d\n",
        "`needle.nn.BatchNorm1d(dim, eps=1e-5, momentum=0.1, device=None, dtype=\"float32\")`\n",
        "\n",
        "Applies batch normalization over a mini-batch of inputs as described in the paper [Batch Normalization: Accelerating Deep Network Training by Reducing Internal Covariate Shift](https://arxiv.org/abs/1502.03167).\n",
        "\n",
        "\\begin{equation}\n",
        "y = w \\circ \\frac{z_i - \\textbf{E}[x]}{((\\textbf{Var}[x]+\\epsilon)^{1/2})} + b\n",
        "\\end{equation}\n",
        "\n",
        "but where here the mean and variance refer to the mean and variance over the _batch_dimensions.  The function also computes a running average of mean/variance for all features at each layer $\\hat{\\mu}, \\hat{\\sigma}^2$, and at test time normalizes by these quantities:\n",
        "\n",
        "\\begin{equation}\n",
        "y = \\frac{(x - \\hat{mu})}{((\\hat{\\sigma}^2_{i+1})_j+\\epsilon)^{1/2}}\n",
        "\\end{equation}\n",
        "\n",
        "\n",
        "BatchNorm uses the running estimates of mean and variance instead of batch statistics at test time, i.e.,\n",
        "after `model.eval()` has been called on the BatchNorm layer's `training` flag is false.\n",
        "\n",
        "To compute the running estimates, you can use the equation $$\\hat{x_{new}} = (1 - m) \\hat{x_{old}} + mx_{observed},$$\n",
        "where $m$ is momentum.\n",
        "\n",
        "##### Parameters\n",
        "- `dim` - input dimension\n",
        "- `eps` - a value added to the denominator for numerical stability.\n",
        "- `momentum` - the value used for the running mean and running variance computation.\n",
        "\n",
        "##### Variables\n",
        "- `weight` - the learnable weights of size `dim`, elements initialized to 1.\n",
        "- `bias` - the learnable bias of size `dim`, elements initialized to 0.\n",
        "- `running_mean` - the running mean used at evaluation time, elements initialized to 0.\n",
        "- `running_var` - the running (unbiased) variance used at evaluation time, elements initialized to 1.\n",
        "\n",
        "___"
      ]
    },
    {
      "cell_type": "code",
      "execution_count": 39,
      "metadata": {
        "colab": {
          "base_uri": "https://localhost:8080/"
        },
        "id": "4NUEUyxR5Mi6",
        "outputId": "165ffa68-beb5-46a9-8eaa-ccd19e5f64e6"
      },
      "outputs": [
        {
          "output_type": "stream",
          "name": "stdout",
          "text": [
            "\u001b[1m============================= test session starts ==============================\u001b[0m\n",
            "platform linux -- Python 3.12.11, pytest-8.4.2, pluggy-1.6.0 -- /usr/bin/python3\n",
            "cachedir: .pytest_cache\n",
            "rootdir: /content/drive/MyDrive/10714/hw2\n",
            "plugins: langsmith-0.4.31, anyio-4.11.0, typeguard-4.4.4\n",
            "collected 93 items / 85 deselected / 8 selected                                \u001b[0m\n",
            "\n",
            "tests/hw2/test_nn_and_optim.py::test_nn_batchnorm_check_model_eval_switches_training_flag_1 \u001b[32mPASSED\u001b[0m\u001b[32m [ 12%]\u001b[0m\n",
            "tests/hw2/test_nn_and_optim.py::test_nn_batchnorm_forward_1 \u001b[32mPASSED\u001b[0m\u001b[32m       [ 25%]\u001b[0m\n",
            "tests/hw2/test_nn_and_optim.py::test_nn_batchnorm_forward_affine_1 \u001b[32mPASSED\u001b[0m\u001b[32m [ 37%]\u001b[0m\n",
            "tests/hw2/test_nn_and_optim.py::test_nn_batchnorm_backward_1 \u001b[32mPASSED\u001b[0m\u001b[32m      [ 50%]\u001b[0m\n",
            "tests/hw2/test_nn_and_optim.py::test_nn_batchnorm_backward_affine_1 \u001b[32mPASSED\u001b[0m\u001b[32m [ 62%]\u001b[0m\n",
            "tests/hw2/test_nn_and_optim.py::test_nn_batchnorm_running_mean_1 \u001b[32mPASSED\u001b[0m\u001b[32m  [ 75%]\u001b[0m\n",
            "tests/hw2/test_nn_and_optim.py::test_nn_batchnorm_running_var_1 \u001b[32mPASSED\u001b[0m\u001b[32m   [ 87%]\u001b[0m\n",
            "tests/hw2/test_nn_and_optim.py::test_nn_batchnorm_running_grad_1 \u001b[32mPASSED\u001b[0m\u001b[32m  [100%]\u001b[0m\n",
            "\n",
            "\u001b[32m======================= \u001b[32m\u001b[1m8 passed\u001b[0m, \u001b[33m85 deselected\u001b[0m\u001b[32m in 0.56s\u001b[0m\u001b[32m =======================\u001b[0m\n"
          ]
        }
      ],
      "source": [
        "!python3 -m pytest -v -k \"test_nn_batchnorm\""
      ]
    },
    {
      "cell_type": "code",
      "execution_count": 40,
      "metadata": {
        "colab": {
          "base_uri": "https://localhost:8080/"
        },
        "id": "REg6MCNr5Mi6",
        "outputId": "2633d982-6243-4fc8-ca0f-615bcc34745b"
      },
      "outputs": [
        {
          "output_type": "stream",
          "name": "stdout",
          "text": [
            "submit\n",
            "\u001b[1m============================= test session starts ==============================\u001b[0m\n",
            "platform linux -- Python 3.12.11, pytest-8.4.2, pluggy-1.6.0\n",
            "rootdir: /content/drive/MyDrive/10714/hw2\n",
            "plugins: langsmith-0.4.31, anyio-4.11.0, typeguard-4.4.4\n",
            "collected 19 items / 18 deselected / 1 selected                                \u001b[0m\n",
            "\n",
            "tests/hw2/test_nn_and_optim.py \n",
            "Submitting nn_batchnorm...\n",
            "Grader test 1 passed\n",
            "Grader test 2 passed\n",
            "Grader test 3 passed\n",
            "Grader test 4 passed\n",
            "Grader test 5 passed\n",
            "Grader test 6 passed\n",
            "Grader test 7 passed\n",
            "Grader test 8 passed\n",
            "Grader test 9 passed\n",
            "\u001b[32m.\u001b[0m\n",
            "\n",
            "\u001b[32m======================= \u001b[32m\u001b[1m1 passed\u001b[0m, \u001b[33m18 deselected\u001b[0m\u001b[32m in 3.09s\u001b[0m\u001b[32m =======================\u001b[0m\n"
          ]
        }
      ],
      "source": [
        "!python3 -m mugrade submit \"$MY_API_KEY\" \"$HW2_NAME\" -k \"nn_batchnorm\""
      ]
    },
    {
      "cell_type": "markdown",
      "metadata": {
        "id": "-7eqdc8h5Mi6"
      },
      "source": [
        "### Dropout\n",
        "`needle.nn.Dropout(p = 0.5)`\n",
        "\n",
        "During training, randomly zeroes some of the elements of the input tensor with probability `p` using samples from a Bernoulli distribution. This has proven to be an effective technique for regularization and preventing the co-adaptation of neurons as described in the paper [Improving neural networks by preventing co-adaptation of feature detectors](https://arxiv.org/abs/1207.0580). During evaluation the module simply computes an identity function.\n",
        "\n",
        "\\begin{equation}\n",
        "\\hat{z}_{i+1} = \\sigma_i (W_i^T z_i + b_i) \\\\\n",
        "(z_{i+1})_j =\n",
        "    \\begin{cases}\n",
        "    (\\hat{z}_{i+1})_j /(1-p) & \\text{with probability } 1-p \\\\\n",
        "    0 & \\text{with probability } p \\\\\n",
        "    \\end{cases}\n",
        "\\end{equation}\n",
        "\n",
        "The division by \\(1-p\\) keeps the expected activation unchanged, since  \n",
        "\n",
        "$$\n",
        "\\mathbb{E}\\big[\\operatorname{Dropout}((\\hat{z}_{i+1})_j)\\big]\n",
        "= (1-p)\\,\\frac{(\\hat{z}_{i+1})_j}{1-p} + p \\cdot 0\n",
        "= (\\hat{z}_{i+1})_j\n",
        "$$\n",
        "\n",
        "**Important**: If the Dropout module has the flag `training=False`, you shouldn't \"dropout\" any activations. That is, dropout applies during training only, not during evaluation. Note that `training` is a flag in `nn.Module`.\n",
        "\n",
        "##### Parameters\n",
        "- `p` - the probability of an element to be zeroed.\n",
        "\n",
        "Utils in `python/needle/init/init_basic.py` might be helpful when implementing Dropout.\n",
        "___"
      ]
    },
    {
      "cell_type": "code",
      "execution_count": 41,
      "metadata": {
        "colab": {
          "base_uri": "https://localhost:8080/"
        },
        "id": "fRAf6DVI5Mi6",
        "outputId": "a9bb61b1-fb9e-420c-87a5-126487a55b1a"
      },
      "outputs": [
        {
          "output_type": "stream",
          "name": "stdout",
          "text": [
            "\u001b[1m============================= test session starts ==============================\u001b[0m\n",
            "platform linux -- Python 3.12.11, pytest-8.4.2, pluggy-1.6.0 -- /usr/bin/python3\n",
            "cachedir: .pytest_cache\n",
            "rootdir: /content/drive/MyDrive/10714/hw2\n",
            "plugins: langsmith-0.4.31, anyio-4.11.0, typeguard-4.4.4\n",
            "collected 93 items / 91 deselected / 2 selected                                \u001b[0m\n",
            "\n",
            "tests/hw2/test_nn_and_optim.py::test_nn_dropout_forward_1 \u001b[32mPASSED\u001b[0m\u001b[32m         [ 50%]\u001b[0m\n",
            "tests/hw2/test_nn_and_optim.py::test_nn_dropout_backward_1 \u001b[32mPASSED\u001b[0m\u001b[32m        [100%]\u001b[0m\n",
            "\n",
            "\u001b[32m======================= \u001b[32m\u001b[1m2 passed\u001b[0m, \u001b[33m91 deselected\u001b[0m\u001b[32m in 0.54s\u001b[0m\u001b[32m =======================\u001b[0m\n"
          ]
        }
      ],
      "source": [
        "!python3 -m pytest -v -k \"test_nn_dropout\""
      ]
    },
    {
      "cell_type": "code",
      "execution_count": 42,
      "metadata": {
        "colab": {
          "base_uri": "https://localhost:8080/"
        },
        "id": "Zc-yC7or5Mi6",
        "outputId": "e20fd518-484f-42e7-db30-7e0569a3e35e"
      },
      "outputs": [
        {
          "output_type": "stream",
          "name": "stdout",
          "text": [
            "submit\n",
            "\u001b[1m============================= test session starts ==============================\u001b[0m\n",
            "platform linux -- Python 3.12.11, pytest-8.4.2, pluggy-1.6.0\n",
            "rootdir: /content/drive/MyDrive/10714/hw2\n",
            "plugins: langsmith-0.4.31, anyio-4.11.0, typeguard-4.4.4\n",
            "collected 19 items / 18 deselected / 1 selected                                \u001b[0m\n",
            "\n",
            "tests/hw2/test_nn_and_optim.py \n",
            "Submitting nn_dropout...\n",
            "Grader test 1 passed\n",
            "Grader test 2 passed\n",
            "\u001b[32m.\u001b[0m\n",
            "\n",
            "\u001b[32m======================= \u001b[32m\u001b[1m1 passed\u001b[0m, \u001b[33m18 deselected\u001b[0m\u001b[32m in 1.40s\u001b[0m\u001b[32m =======================\u001b[0m\n"
          ]
        }
      ],
      "source": [
        "!python3 -m mugrade submit \"$MY_API_KEY\" \"$HW2_NAME\" -k \"nn_dropout\""
      ]
    },
    {
      "cell_type": "markdown",
      "metadata": {
        "tags": [],
        "id": "PkGJGsqm5MjO"
      },
      "source": [
        "### Residual\n",
        "`needle.nn.Residual(fn: Module)`\n",
        "\n",
        "Applies a residual or skip connection given module $\\mathcal{F}$ and input Tensor $x$, returning $\\mathcal{F}(x) + x$.\n",
        "##### Parameters\n",
        "- `fn` - module of type `needle.nn.Module`"
      ]
    },
    {
      "cell_type": "code",
      "execution_count": 43,
      "metadata": {
        "colab": {
          "base_uri": "https://localhost:8080/"
        },
        "id": "ITTLH_ZV5MjO",
        "outputId": "ca98a91f-c492-498f-e800-cd5ee960edee"
      },
      "outputs": [
        {
          "output_type": "stream",
          "name": "stdout",
          "text": [
            "\u001b[1m============================= test session starts ==============================\u001b[0m\n",
            "platform linux -- Python 3.12.11, pytest-8.4.2, pluggy-1.6.0 -- /usr/bin/python3\n",
            "cachedir: .pytest_cache\n",
            "rootdir: /content/drive/MyDrive/10714/hw2\n",
            "plugins: langsmith-0.4.31, anyio-4.11.0, typeguard-4.4.4\n",
            "collected 93 items / 91 deselected / 2 selected                                \u001b[0m\n",
            "\n",
            "tests/hw2/test_nn_and_optim.py::test_nn_residual_forward_1 \u001b[32mPASSED\u001b[0m\u001b[32m        [ 50%]\u001b[0m\n",
            "tests/hw2/test_nn_and_optim.py::test_nn_residual_backward_1 \u001b[32mPASSED\u001b[0m\u001b[32m       [100%]\u001b[0m\n",
            "\n",
            "\u001b[32m======================= \u001b[32m\u001b[1m2 passed\u001b[0m, \u001b[33m91 deselected\u001b[0m\u001b[32m in 0.52s\u001b[0m\u001b[32m =======================\u001b[0m\n"
          ]
        }
      ],
      "source": [
        "!python3 -m pytest -v -k \"test_nn_residual\""
      ]
    },
    {
      "cell_type": "code",
      "execution_count": 44,
      "metadata": {
        "colab": {
          "base_uri": "https://localhost:8080/"
        },
        "id": "2NxMEONw5MjO",
        "outputId": "b28f2ceb-adb4-4f76-8db0-008028f629a5"
      },
      "outputs": [
        {
          "output_type": "stream",
          "name": "stdout",
          "text": [
            "submit\n",
            "\u001b[1m============================= test session starts ==============================\u001b[0m\n",
            "platform linux -- Python 3.12.11, pytest-8.4.2, pluggy-1.6.0\n",
            "rootdir: /content/drive/MyDrive/10714/hw2\n",
            "plugins: langsmith-0.4.31, anyio-4.11.0, typeguard-4.4.4\n",
            "collected 19 items / 18 deselected / 1 selected                                \u001b[0m\n",
            "\n",
            "tests/hw2/test_nn_and_optim.py \n",
            "Submitting nn_residual...\n",
            "Grader test 1 passed\n",
            "Grader test 2 passed\n",
            "\u001b[32m.\u001b[0m\n",
            "\n",
            "\u001b[32m======================= \u001b[32m\u001b[1m1 passed\u001b[0m, \u001b[33m18 deselected\u001b[0m\u001b[32m in 1.29s\u001b[0m\u001b[32m =======================\u001b[0m\n"
          ]
        }
      ],
      "source": [
        "!python3 -m mugrade submit \"$MY_API_KEY\" \"$HW2_NAME\" -k \"nn_residual\""
      ]
    },
    {
      "cell_type": "markdown",
      "metadata": {
        "tags": [],
        "id": "vN5Cjwso5MjO"
      },
      "source": [
        "## Question 3\n",
        "\n",
        "Implement the `step` function of the following optimizers in `python/needle/optim.py`.\n",
        "Make sure that your optimizers _don't_ modify the gradients of tensors in-place.\n",
        "\n",
        "We have included some tests to ensure that you are not consuming excessive memory, which can happen if you are\n",
        "not using `.data` or `.detach()` in the right places, thus building an increasingly large computational graph\n",
        "(not just in the optimizers, but in the previous modules as well).\n",
        "You can ignore these tests, which include the string `memory_check` at your own discretion.\n",
        "\n",
        "___\n",
        "\n",
        "### SGD\n",
        "`needle.optim.SGD(params, lr=0.01, momentum=0.0, weight_decay=0.0)`\n",
        "\n",
        "Implements stochastic gradient descent (optionally with momentum, shown as $\\beta$ below).\n",
        "\n",
        "\\begin{equation}\n",
        "\\begin{split}\n",
        "    u_{t+1} &= \\beta u_t + (1-\\beta) \\nabla_\\theta f(\\theta_t) \\\\\n",
        "    \\theta_{t+1} &= \\theta_t - \\alpha u_{t+1}\n",
        "\\end{split}\n",
        "\\end{equation}\n",
        "\n",
        "##### Parameters\n",
        "- `params` - iterable of parameters of type `needle.nn.Parameter` to optimize\n",
        "- `lr` (*float*) - learning rate\n",
        "- `momentum` (*float*) - momentum factor\n",
        "- `weight_decay` (*float*) - weight decay (L2 penalty)\n",
        "\n",
        "Implementation of `clip_grad_norm` can be skipped for this homework.\n",
        "___"
      ]
    },
    {
      "cell_type": "code",
      "execution_count": null,
      "metadata": {
        "id": "wAdv26_p5MjP"
      },
      "outputs": [],
      "source": [
        "!python3 -m pytest -v -k \"test_optim_sgd\""
      ]
    },
    {
      "cell_type": "code",
      "execution_count": null,
      "metadata": {
        "id": "RWZf8xKX5MjP"
      },
      "outputs": [],
      "source": [
        "!python3 -m mugrade submit \"$MY_API_KEY\" \"$HW2_NAME\" -k \"optim_sgd\""
      ]
    },
    {
      "cell_type": "markdown",
      "metadata": {
        "tags": [],
        "id": "pfECKx-h5MjP"
      },
      "source": [
        "### Adam\n",
        "`needle.optim.Adam(params, lr=0.01, beta1=0.9, beta2=0.999, eps=1e-8, weight_decay=0.0)`\n",
        "\n",
        "Implements Adam algorithm, proposed in [Adam: A Method for Stochastic Optimization](https://arxiv.org/abs/1412.6980).\n",
        "\n",
        "\\begin{equation}\n",
        "\\begin{split}\n",
        "u_{t+1} &= \\beta_1 u_t + (1-\\beta_1) \\nabla_\\theta f(\\theta_t) \\\\\n",
        "v_{t+1} &= \\beta_2 v_t + (1-\\beta_2) (\\nabla_\\theta f(\\theta_t))^2 \\\\\n",
        "\\hat{u}_{t+1} &= u_{t+1} / (1 - \\beta_1^t) \\quad \\text{(bias correction)} \\\\\n",
        "\\hat{v}_{t+1} &= v_{t+1} / (1 - \\beta_2^t) \\quad \\text{(bias correction)}\\\\\n",
        "\\theta_{t+1} &= \\theta_t - \\alpha \\hat{u_{t+1}}/(\\hat{v}_{t+1}^{1/2}+\\epsilon)\n",
        "\\end{split}\n",
        "    \\end{equation}\n",
        "\n",
        "**Important:** Pay attention to whether or not you are applying bias correction.\n",
        "\n",
        "##### Parameters\n",
        "- `params` - iterable of parameters of type `needle.nn.Parameter` to optimize\n",
        "- `lr` (*float*) - learning rate\n",
        "- `beta1` (*float*) - coefficient used for computing running average of gradient\n",
        "- `beta2` (*float*) - coefficient used for computing running average of square of gradient\n",
        "- `eps` (*float*) - term added to the denominator to improve numerical stability\n",
        "- `weight_decay` (*float*) - weight decay (L2 penalty)\n",
        "\n",
        "**Hint**: To help deal with memory issues, try to understand how to use `.data` or `.detach()`"
      ]
    },
    {
      "cell_type": "code",
      "execution_count": null,
      "metadata": {
        "id": "itKGAX-s5MjP"
      },
      "outputs": [],
      "source": [
        "!python3 -m pytest -v -k \"test_optim_adam\""
      ]
    },
    {
      "cell_type": "code",
      "execution_count": null,
      "metadata": {
        "id": "SvuapMfZ5MjP"
      },
      "outputs": [],
      "source": [
        "!python3 -m mugrade submit \"$MY_API_KEY\" \"$HW2_NAME\" -k \"optim_adam\""
      ]
    },
    {
      "cell_type": "markdown",
      "metadata": {
        "id": "7ocuiVth5MjP"
      },
      "source": [
        "## Question 4\n",
        "\n",
        "In this question, you will implement two data primitives: `needle.data.DataLoader` and `needle.data.Dataset`. `Dataset` stores the samples and their corresponding labels, and `DataLoader` wraps an iterable around the `Dataset` to enable easy access to the samples.\n",
        "\n",
        "For this question, you will be working in the `python/needle/data` directory.\n",
        "\n",
        "### Transformations\n",
        "\n",
        "First we will implement a few transformations that are helpful when working with images. We will stick with a horizontal flip and a random crop for now. Fill out the following functions in `needle/data/data_transforms.py`.\n",
        "___\n",
        "\n",
        "#### RandomFlipHorizontal\n",
        "`needle.data.RandomFlipHorizontal(p = 0.5)`\n",
        "\n",
        "Flips the image horizontally, with probability `p`.\n",
        "\n",
        "##### Parameters\n",
        "- `p` (*float*) - The probability of flipping the input image.\n",
        "___\n",
        "\n",
        "#### RandomCrop\n",
        "`needle.data.RandomCrop(padding=3)`\n",
        "\n",
        "Padding is added to all sides of the image, and then the image is cropped back to it's original size at a random location. Returns an image the same size as the original image.\n",
        "\n",
        "##### Parameters\n",
        "- `padding` (*int*) - The padding on each border of the image."
      ]
    },
    {
      "cell_type": "code",
      "execution_count": null,
      "metadata": {
        "id": "yFP41-ES5MjP"
      },
      "outputs": [],
      "source": [
        "!python3 -m pytest -v -k \"flip_horizontal\"\n",
        "!python3 -m pytest -v -k \"random_crop\""
      ]
    },
    {
      "cell_type": "code",
      "execution_count": null,
      "metadata": {
        "id": "0FItPEbk5MjP"
      },
      "outputs": [],
      "source": [
        "!python3 -m mugrade submit \"$MY_API_KEY\" \"$HW2_NAME\" -k \"flip_horizontal\"\n",
        "!python3 -m mugrade submit \"$MY_API_KEY\" \"$HW2_NAME\" -k \"random_crop\""
      ]
    },
    {
      "cell_type": "markdown",
      "metadata": {
        "id": "Rhx5I4Z35MjQ"
      },
      "source": [
        "The Dataset is in charge of what your data is (e.g., an image/label pair) and how to get a single sample. The Dataloader is in charge of how your data is fed into training (e.g., batching, shuffling, iterating over epochs).\n",
        "\n",
        "### Dataset\n",
        "\n",
        "Each **subclass** of the  `Dataset`class must implement three functions: `__init__`, `__len__`, and `__getitem__`.\n",
        "* The `__init__` function initializes the images, labels, and transforms.\n",
        "* The `__len__` function returns the number of samples in the dataset.\n",
        "* The `__getitem__` function retrieves a sample from the dataset at a given index `idx`, **calls the transform functions on the image (if applicable)**, converts the image and label to a numpy array (the data will be converted to Tensors elsewhere). The output of `__getitem__` and `__next__` should be NDArrays, and you should follow the shapes such that you're accessing an array of size (Datapoint Number, Feature Dim 1, Feature Dim 2, ...).\n",
        "\n",
        "Fill out these functions in the `MNISTDataset` class in `needle/data/datasets/mnist_dataset.py`. You can use your solution to `parse_mnist` from the previous homework for the `__init__` function.\n",
        "\n",
        "### MNISTDataset (subclass of Dataset)\n",
        "`needle.data.MNISTDataset(image_filename, label_filename, transforms)`\n",
        "\n",
        "##### Parameters\n",
        "- `image_filename` - path of file containing images\n",
        "- `label_filename` - path of file containing labels\n",
        "- `transforms` - an optional list of transforms to apply to data\n"
      ]
    },
    {
      "cell_type": "code",
      "execution_count": null,
      "metadata": {
        "id": "E_wgaULQ5MjQ"
      },
      "outputs": [],
      "source": [
        "!python3 -m pytest -v -k \"test_mnist_dataset\""
      ]
    },
    {
      "cell_type": "code",
      "execution_count": null,
      "metadata": {
        "id": "zwy7a09c5MjQ"
      },
      "outputs": [],
      "source": [
        "!python3 -m mugrade submit \"$MY_API_KEY\" \"$HW2_NAME\" -k \"mnist_dataset\""
      ]
    },
    {
      "cell_type": "markdown",
      "metadata": {
        "id": "_4U6NBpx5MjQ"
      },
      "source": [
        "### Dataloader\n",
        "\n",
        "`needle.data.Dataloader(dataset: Dataset, batch_size: Optional[int] = 1, shuffle: bool = False)`\n",
        "\n",
        "\n",
        "In `needle/data/data_basic.py`, the Dataloader class provides an interface for assembling mini-batches of examples suitable for training using SGD-based approaches, backed by a `Dataset` object.  In order to build the typical Dataloader interface (allowing users to iterate over all the mini-batches in the dataset), you will need to implement the `__iter__()` and `__next__()` calls in the class:\n",
        "* `__iter__()` is called at the start of a new epoch (i.e., whenever you begin looping over the dataloader).\n",
        "* `__next__()` is called once per batch until the epoch is finished.\n",
        "\n",
        "Please note that subsequent calls to next will require you to return the following batches, so next is not a pure function.\n",
        "\n",
        "##### Purpose\n",
        "\n",
        "Combines a dataset and a sampler, and provides an iterable over the given dataset.\n",
        "\n",
        "##### Parameters\n",
        "- `dataset` - `needle.data.Dataset` - a dataset\n",
        "- `batch_size` - `int` - what batch size to serve the data in\n",
        "- `shuffle` - `bool` - set to ``True`` to reshuffle the data **at the beginning of every epoch**, default ``False``.\n",
        "___\n",
        "\n",
        "\n",
        "\n"
      ]
    },
    {
      "cell_type": "code",
      "execution_count": null,
      "metadata": {
        "id": "uJQTx1g05MjQ"
      },
      "outputs": [],
      "source": [
        "!python3 -m pytest -v -k \"test_dataloader\""
      ]
    },
    {
      "cell_type": "code",
      "execution_count": null,
      "metadata": {
        "id": "qzkrcnuG5MjQ"
      },
      "outputs": [],
      "source": [
        "!python3 -m mugrade submit \"$MY_API_KEY\" \"$HW2_NAME\" -k \"dataloader\""
      ]
    },
    {
      "cell_type": "markdown",
      "metadata": {
        "id": "0oLZVMet5MjQ"
      },
      "source": [
        "## Question 5\n",
        "\n",
        "Given you have now implemented all the necessary components for our neural network library, let's build and train an MLP ResNet. For this question, you will be working in `apps/mlp_resnet.py`. First, fill out the functions `ResidualBlock` and `MLPResNet` as described below:\n",
        "\n",
        "### ResidualBlock\n",
        "`ResidualBlock(dim, hidden_dim, norm=nn.BatchNorm1d, drop_prob=0.1)`\n",
        "\n",
        "Implements a residual block as follows:\n",
        "\n",
        "<p align=\"center\">\n",
        "  <img src=\"https://github.com/dlsyscourse/hw2/blob/f4c994506f2c76d7fdcc5a711a483e31b189afaa/figures/residualblock.png?raw=true\" alt=\"Residual Block\"/>\n",
        "</p>\n",
        "\n",
        "**NOTE**: if the figure does not render, please see the figure in the `figures` directory.\n",
        "\n",
        "where the first linear layer has `in_features=dim` and `out_features=hidden_dim`, and the last linear layer has `out_features=dim`. Returns the block as type `nn.Module`.\n",
        "\n",
        "##### Parameters\n",
        "- `dim` (*int*) - input dim\n",
        "- `hidden_dim` (*int*) - hidden dim\n",
        "- `norm` (*nn.Module*) - normalization method\n",
        "- `drop_prob` (*float*) - dropout probability\n",
        "\n",
        "___\n",
        "\n",
        "### MLPResNet\n",
        "`MLPResNet(dim, hidden_dim=100, num_blocks=3, num_classes=10, norm=nn.BatchNorm1d, drop_prob=0.1)`\n",
        "\n",
        "Implements an MLP ResNet as follows:\n",
        "\n",
        "<p align=\"center\">\n",
        "  <img src=\"https://github.com/dlsyscourse/hw2/blob/f4c994506f2c76d7fdcc5a711a483e31b189afaa/figures/mlp_resnet.png?raw=true\" alt=\"MLP Resnet\"/>\n",
        "</p>\n",
        "\n",
        "where the first linear layer has `in_features=dim` and `out_features=hidden_dim`, and each ResidualBlock has `dim=hidden_dim` and `hidden_dim=hidden_dim//2`. Returns a network of type `nn.Module`.\n",
        "\n",
        "##### Parameters\n",
        "- `dim` (*int*) - input dim\n",
        "- `hidden_dim` (*int*) - hidden dim\n",
        "- `num_blocks` (*int*) - number of ResidualBlocks\n",
        "- `num_classes` (*int*) - number of classes\n",
        "- `norm` (*nn.Module*) - normalization method\n",
        "- `drop_prob` (*float*) - dropout probability (0.1)\n",
        "\n",
        "**Note**: Modules should be initialized to match the order of execution in the Resnet.\n",
        "___\n",
        "\n",
        "Once you have the deep learning model architecture correct, let's train the network using our new neural network library components. Specifically, implement the functions `epoch` and `train_mnist`.\n",
        "\n",
        "### Epoch\n",
        "\n",
        "`epoch(dataloader, model, opt=None)`\n",
        "\n",
        "Executes one epoch of training or evaluation, iterating over the entire training dataset once (just like `nn_epoch` from previous homeworks). Returns the average error rate (as a *float*) and the average loss over all samples (as a *float*). Set the model to `training` mode at the beginning of the function if `opt` is given; set the model to `eval` if `opt` is not given (i.e. `None`). When setting the modes, use `.train()` and `.eval()` instead of modifying the training attribute.\n",
        "\n",
        "##### Parameters\n",
        "- `dataloader` (*`needle.data.DataLoader`*) - dataloader returning samples from the training dataset\n",
        "- `model` (*`needle.nn.Module`*) - neural network\n",
        "- `opt` (*`needle.optim.Optimizer`*) - optimizer instance, or `None`\n",
        "\n",
        "___\n",
        "\n",
        "### Train Mnist\n",
        "\n",
        "`train_mnist(batch_size=100, epochs=10, optimizer=ndl.optim.Adam, lr=0.001, weight_decay=0.001, hidden_dim=100, data_dir=\"data\")`\n",
        "                \n",
        "Initializes a training dataloader (with `shuffle` set to `True`) and a test dataloader for MNIST data, and trains an `MLPResNet` using the given optimizer (if `opt` is not None) and the softmax loss for a given number of epochs. Returns a tuple of the training error, training loss, test error, test loss computed in the last epoch of training. If any parameters are not specified, use the default parameters.\n",
        "\n",
        "##### Parameters\n",
        "- `batch_size` (*int*) - batch size to use for train and test dataloader\n",
        "- `epochs` (*int*) - number of epochs to train for\n",
        "- `optimizer` (*`needle.optim.Optimizer` type*) - optimizer type to use\n",
        "- `lr` (*float*) - learning rate\n",
        "- `weight_decay` (*float*) - weight decay\n",
        "- `hidden_dim` (*int*) - hidden dim for `MLPResNet`\n",
        "- `data_dir` (*str*) - directory containing MNIST image/label files\n"
      ]
    },
    {
      "cell_type": "code",
      "execution_count": null,
      "metadata": {
        "id": "sirUBdls5MjQ"
      },
      "outputs": [],
      "source": [
        "!python3 -m pytest -v -k \"test_mlp\""
      ]
    },
    {
      "cell_type": "code",
      "execution_count": null,
      "metadata": {
        "id": "JZeoFLCP5MjR"
      },
      "outputs": [],
      "source": [
        "!python3 -m mugrade submit \"$MY_API_KEY\" \"$HW2_NAME\" -k \"mlp_resnet\""
      ]
    },
    {
      "cell_type": "markdown",
      "metadata": {
        "id": "kGxPj16Q5MjR"
      },
      "source": [
        "We encourage you to experiment with the `mlp_resnet.py` training script.\n",
        "You can investigate the effect of using different initializers on the Linear layers,\n",
        "increasing the dropout probability,\n",
        "or adding transforms (via a list to the `transforms=` keyword argument of Dataset)\n",
        "such as random cropping."
      ]
    },
    {
      "cell_type": "markdown",
      "metadata": {
        "id": "Y3IlBXQU5MjR"
      },
      "source": []
    }
  ],
  "metadata": {
    "kernelspec": {
      "display_name": ".venv",
      "language": "python",
      "name": "python3"
    },
    "language_info": {
      "codemirror_mode": {
        "name": "ipython",
        "version": 3
      },
      "file_extension": ".py",
      "mimetype": "text/x-python",
      "name": "python",
      "nbconvert_exporter": "python",
      "pygments_lexer": "ipython3",
      "version": "3.11.13"
    },
    "colab": {
      "provenance": []
    }
  },
  "nbformat": 4,
  "nbformat_minor": 0
}